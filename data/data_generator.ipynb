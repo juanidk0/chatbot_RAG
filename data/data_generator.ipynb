{
 "cells": [
  {
   "cell_type": "code",
   "execution_count": 1,
   "id": "a8c6d719",
   "metadata": {},
   "outputs": [],
   "source": [
    "# Import libraries\n",
    "from openai import OpenAI\n",
    "import pandas as pd\n",
    "import numpy as np\n",
    "import json"
   ]
  },
  {
   "cell_type": "code",
   "execution_count": 11,
   "id": "dfcc236b",
   "metadata": {},
   "outputs": [],
   "source": [
    "# set the system prompt for the employees documents\n",
    "system_prompt = \"\"\"\n",
    "You are an agent, your main function is create documents that simulates the employees of an AI company, which has different products about AI, like automatizations, software deployment,\n",
    "and some consultoring services, so the user will pass you a dictonary, with this structure:\n",
    "\n",
    "{['name':'position']}\n",
    "\n",
    "and your main job is create a json with this structure\n",
    "{['name': 'name',\n",
    "'postion': 'position',\n",
    "'description' : MARKDOWN FORMAT]}\n",
    "\n",
    "so basically you will create the description of the employee, that description is completely invented, but have to be consise with the job position, the description should contain\n",
    "information about past jobs, habilities, and studies, including the collegue and some extra studies, if the person won a prize previously, what awards was, etc...\n",
    "Take this as an example:\n",
    "\n",
    "# HR Record\n",
    "\n",
    "# Alex Thomson\n",
    "\n",
    "## Summary\n",
    "- **Date of Birth:** March 15, 1995  \n",
    "- **Job Title:** Sales Development Representative (SDR)  \n",
    "- **Location:** Austin, Texas  \n",
    "\n",
    "## Insurellm Career Progression\n",
    "- **November 2022** - Joined Insurellm as a Sales Development Representative. Alex Thomson quickly adapted to the team, demonstrating exceptional communication and rapport-building skills.\n",
    "- **January 2023** - Promoted to Team Lead for special projects due to Alex's initiative in driving B2B customer outreach programs.  \n",
    "- **August 2023** - Developed a training module for new SDRs at Insurellm, enhancing onboarding processes based on feedback and strategies that Alex Thomson pioneered.  \n",
    "- **Current** - Continues to excel in the role, leading a small team of 5 SDRs while collaborating closely with the marketing department to identify new lead-generation strategies.  \n",
    "\n",
    "## Annual Performance History  \n",
    "- **2022** - Rated as \"Exceeds Expectations.\" Alex Thomson achieved 150% of the sales target within the first three months.  \n",
    "- **2023** - Rated \"Outstanding.\" Recognized for innovative lead-generation tactics which contributed to a 30% increase in qualified leads for the sales team.  \n",
    "\n",
    "### Highlights:\n",
    "- Consistently maintained a 30-minute response time to inbound leads.\n",
    "- Successfully coordinated webinars for product launches, which attracted over 2,000 potential customers.\n",
    "\n",
    "## Compensation History\n",
    "- **2022**: Base Salary - $55,000 | Bonus - $5,000  \n",
    "- **2023**: Base Salary - $65,000 | Bonus - $10,000 (for exceeding sales targets and exceptional teamwork)  \n",
    "- **Projected for 2024**: Anticipated salary increase due to Alex Thomson's significant contributions and successful completion of leadership training.\n",
    "\n",
    "## Other HR Notes\n",
    "- Alex Thomson is an active member of the Diversity and Inclusion committee at Insurellm and has participated in various community outreach programs.  \n",
    "- Alex has received external training on advanced CRM usage, which has subsequently improved team efficiency and productivity.\n",
    "- Continuous professional development through attending sales conventions and workshops, with plans to pursue certification in Sales Enablement in 2024.\n",
    "- Recognized by peers for promoting a supportive and high-energy team environment, often organizing team-building activities to enhance camaraderie within the SDR department. \n",
    "\n",
    "--- \n",
    "**Comment:** Alex Thomson is considered a cornerstone of Insurellm’s sales team and has a bright future within the organization.\n",
    "\n",
    "\n",
    "\n",
    "but all descriptions should be different, you could also get more than one person at the same time in the input json, so you should create multiple instaces in the same json like this\n",
    "{['name': 'name',\n",
    "'postion': 'position',\n",
    "'description' : MARKDOWN FORMAT],\n",
    "['name': 'name',\n",
    "'postion': 'position',\n",
    "'description' : MARKDOWN FORMAT]...}\n",
    "\n",
    "JUST RETURN THE JSON WITHOUT ANY COMMENTS\n",
    "\"\"\""
   ]
  },
  {
   "cell_type": "code",
   "execution_count": null,
   "id": "9c9d7ba2",
   "metadata": {},
   "outputs": [
    {
     "data": {
      "text/plain": [
       "str"
      ]
     },
     "execution_count": 6,
     "metadata": {},
     "output_type": "execute_result"
    }
   ],
   "source": [
    "# set the input data for the model\n",
    "input_json = [{'name': 'Juan Rojas',\n",
    "               'position': 'CEO'},\n",
    "               {'name': 'Helena Suarez',\n",
    "                'position': 'Data Engineer'},\n",
    "                {'name': 'Santiago Rojas',\n",
    "                'position': 'Data Analyst'},\n",
    "                {'name': 'Ernesto Jimenez',\n",
    "                'position': 'Software Engineer'},\n",
    "                {'name': 'Samuel Etoo',\n",
    "                'position': 'Accountant'},\n",
    "                ]\n",
    "\n",
    "# set the json as string to pass it to openai api\n",
    "str_json = json.dumps(input_json)\n"
   ]
  },
  {
   "cell_type": "code",
   "execution_count": 7,
   "id": "22583ba2",
   "metadata": {},
   "outputs": [],
   "source": [
    "# Set the openai setup\n",
    "openai = OpenAI()\n",
    "MODEL = 'gpt-5-nano'\n",
    "response = openai.responses.create(\n",
    "    input= [{'role': 'system', 'content': system_prompt},\n",
    "            {'role': 'user', 'content': str_json}],\n",
    "    model= MODEL,\n",
    "    stream= False\n",
    ")"
   ]
  },
  {
   "cell_type": "code",
   "execution_count": 9,
   "id": "a3e131e5",
   "metadata": {},
   "outputs": [
    {
     "data": {
      "text/plain": [
       "[{'name': 'Juan Rojas',\n",
       "  'postion': 'CEO',\n",
       "  'description': '# HR Record\\n\\n# Juan Rojas\\n\\n## Summary\\n- **Date of Birth:** April 12, 1979\\n- **Job Title:** CEO\\n- **Location:** San Francisco, CA\\n\\n## Leadership & Strategy\\n- **2012** - Joined TechNova AI as Product Manager, led cross-functional teams in launching two ML-powered products.\\n- **2015** - Promoted to Chief Operating Officer at TechNova AI; oversaw operations, finance, and partnerships.\\n- **2020** - Joined our AI company as Chief Executive Officer; scaled the organization from 25 to 180+ employees and led major fundraising rounds.\\n- **Current** - Driving strategic vision, corporate governance, and international expansion.\\n\\n## Education & Certifications\\n- **MBA**, Stanford Graduate School of Business (2012)\\n- **B.Sc. in Computer Science**, University of Techland (2003)\\n- **Executive Education**, AI Product Leadership, Wharton Online (2020)\\n\\n## Awards & Recognitions\\n- 2021 Entrepreneur of the Year by AI Forum\\n- 2023 Technology Leadership Award by Global Tech Council\\n\\n## Highlights\\n- Led fundraising rounds totaling over 75M in capital.\\n- Built and scaled cross-border operations across three regions.\\n'},\n",
       " {'name': 'Helena Suarez',\n",
       "  'postion': 'Data Engineer',\n",
       "  'description': '# HR Record\\n\\n# Helena Suarez\\n\\n## Summary\\n- **Date of Birth:** 1988-11-02\\n- **Job Title:** Data Engineer\\n- **Location:** Barcelona, Spain\\n\\n## Professional Trajectory\\n- **2012** - Data Analyst at FinTech Co; built data pipelines and dashboards.\\n- **2015** - Senior Data Engineer at CloudForge Ltd; established streaming ETL with Kafka, Spark, and Airflow.\\n- **2019** - Data Engineer at analytics firm; led migration to cloud data lake on AWS.\\n- **Current** - Senior Data Engineer at our company; responsible for scalable data platforms, data ingestion, governance, and performance optimization.\\n\\n## Education & Certifications\\n- BSc in Computer Science, University of Barcelona\\n- MSc in Data Engineering, Open University (UK)\\n- Google Cloud Professional Data Engineer, 2020\\n- AWS Certified Data Analytics – Specialty, 2021\\n\\n## Awards & Recognitions\\n- 2022 Data Engineer of the Year by DataTech Awards\\n\\n## Skills\\n- Python, SQL, Spark, Hadoop\\n- Cloud platforms: AWS, GCP\\n- Data modeling, ETL/ELT, streaming pipelines\\n- Data governance and security\\n'},\n",
       " {'name': 'Santiago Rojas',\n",
       "  'postion': 'Data Analyst',\n",
       "  'description': '# HR Record\\n\\n# Santiago Rojas\\n\\n## Summary\\n- **Date of Birth:** 1990-07-14\\n- **Job Title:** Data Analyst\\n- **Location:** Medellín, Colombia\\n\\n## Professional Trajectory\\n- **2016** - Junior Data Analyst at MarketPulse; supported data cleaning and reporting.\\n- **2019** - Data Analyst at GrowthAnalytics; built dashboards and automated reporting using Tableau.\\n- **2021** - Senior Data Analyst at our company; improved forecasting accuracy by streamlining data pipelines and introducing data storytelling.\\n- **Current** - Data Analyst focusing on insights, experimentation, and cross-team collaboration.\\n\\n## Education & Certifications\\n- BSc in Statistics, University of Medellín\\n- Tableau Desktop Specialist, 2020\\n- Google Data Analytics Professional Certificate, 2021\\n\\n## Awards & Recognitions\\n- 2020 Best Analytics Project at GrowthAnalytics\\n\\n## Skills\\n- SQL, Python, R, Tableau, Power BI\\n- Data visualization, statistical analysis, forecasting\\n- Data wrangling, ETL, data storytelling\\n'},\n",
       " {'name': 'Ernesto Jimenez',\n",
       "  'postion': 'Software Engineer',\n",
       "  'description': '# HR Record\\n\\n# Ernesto Jimenez\\n\\n## Summary\\n- **Date of Birth:** 1989-03-22\\n- **Job Title:** Software Engineer\\n- **Location:** Madrid, Spain\\n\\n## Professional Trajectory\\n- **2014** - Software Engineer at CodePulse; backend services and APIs.\\n- **2018** - Senior Software Engineer at TechWave; led microservices migration and performance optimization.\\n- **2021** - Backend Engineer at AI Solutions Ltd; designed scalable services and API contracts.\\n- **Current** - Senior Software Engineer at our company; focuses on distributed systems, containerized deployments, and cloud-native architecture.\\n\\n## Education & Certifications\\n- BSc in Computer Science, University of Valencia\\n- AWS Solutions Architect – Associate, 2019\\n- Google Cloud Professional Cloud Developer, 2020\\n\\n## Awards & Recognitions\\n- Hackathon Winner, Global Hack Challenge 2020\\n- Open Source Contributor of the Year 2022\\n\\n## Skills\\n- Languages: Python, Go, Java\\n- Frameworks: Spring Boot, FastAPI\\n-Cloud: AWS, GCP; Kubernetes; Docker\\n- Microservices, RESTful APIs, distributed systems\\n'},\n",
       " {'name': 'Samuel Etoo',\n",
       "  'postion': 'Accountant',\n",
       "  'description': '# HR Record\\n\\n# Samuel Etoo\\n\\n## Summary\\n- **Date of Birth:** 1984-05-11\\n- **Job Title:** Accountant\\n- **Location:** Douala, Cameroon\\n\\n## Professional Trajectory\\n- **2010** - Accounts Payable Clerk at FinServe Ltd; processed invoices and payments.\\n- **2015** - Financial Analyst at GlobalCorp; prepared budgets and variance analysis.\\n- **2018** - Senior Accountant at GlobalCorp; managed month-end close and compliance.\\n- **2021** - Controller at TechFinance; led audits and financial planning.\\n- **Current** - Senior Accountant at our company; oversees GAAP compliance, consolidation, and reporting.\\n\\n## Education & Certifications\\n- BBA in Accounting, University of Douala\\n- CPA, 2012\\n- IFRS Certification, 2016\\n\\n## Awards & Recognitions\\n- 2020 Finance Team of the Year at GlobalCorp\\n\\n## Skills\\n- GAAP, IFRS, FP&A, SAP, Oracle\\n- Financial reporting, budgeting, variance analysis\\n- Tax compliance and audit readiness\\n'}]"
      ]
     },
     "execution_count": 9,
     "metadata": {},
     "output_type": "execute_result"
    }
   ],
   "source": [
    "str_response = response.output_text\n",
    "\n",
    "json_response = json.loads(str_response)\n",
    "json_response"
   ]
  },
  {
   "cell_type": "code",
   "execution_count": 18,
   "id": "b6dfe7ca",
   "metadata": {},
   "outputs": [],
   "source": [
    "for employee in json_response:\n",
    "    with open(fr\"employees\\{employee['name']}.md\", 'w+', encoding= 'utf-8') as f:\n",
    "        f.write(employee['description'])"
   ]
  },
  {
   "cell_type": "markdown",
   "id": "89ffc101",
   "metadata": {},
   "source": [
    "### Now It's time to create the data of the products"
   ]
  },
  {
   "cell_type": "code",
   "execution_count": 43,
   "id": "636e7248",
   "metadata": {},
   "outputs": [],
   "source": [
    "# set the system prompt for the products documents\n",
    "system_prompt_products = \"\"\"\n",
    "You are an agent whose main function is to create a JSON file that simulates the product portfolio of an AI company.\n",
    "\n",
    "The company specializes in artificial intelligence solutions, including automation tools, AI-based analytics platforms, model deployment systems, and consulting services.  \n",
    "Your goal is to invent **10 different products**, each belonging to this company's ecosystem.\n",
    "\n",
    "Each product must be unique and realistic, following this structure:\n",
    "{['name': 'name',\n",
    "'category': 'category',\n",
    "'description': MARKDOWN FORMAT]}\n",
    "\n",
    "### Requirements for each product\n",
    "\n",
    "- **Name:** A creative but credible product name, aligned with AI, automation, or analytics.  \n",
    "- **Category:** One of: “Automation”, “Analytics”, “Deployment”, “Consulting”, “Data Platform”, or another fitting AI-related category.  \n",
    "- **Description (Markdown format):** Must be detailed and structured with the following sections:\n",
    "\n",
    "#### Description format example:\n",
    "\n",
    "# Product Record\n",
    "\n",
    "# SynapseFlow\n",
    "\n",
    "## Overview\n",
    "A concise but informative explanation of what the product does, its purpose, and the type of users it serves.\n",
    "\n",
    "## Core Features\n",
    "- List 3–6 main technical or functional features.  \n",
    "- Mention relevant technologies (e.g., OpenAI API, TensorFlow, LangChain, Power BI integration, cloud deployment).\n",
    "\n",
    "## Use Cases\n",
    "Briefly describe 2–3 situations or industries where the product is typically applied.\n",
    "\n",
    "## Development Timeline\n",
    "Include at least three chronological milestones or versions.\n",
    "\n",
    "## Performance or Success Metrics\n",
    "Provide measurable results or achievements (e.g., “Reduced task completion time by 50%”).\n",
    "\n",
    "## Pricing and Availability\n",
    "Indicate whether the product is available via subscription, on-premise, or enterprise license.\n",
    "\n",
    "---\n",
    "\n",
    "**Comment:** Write one closing remark about how this product fits the company’s vision or strategy.\n",
    "\n",
    "---\n",
    "\n",
    "### Important:\n",
    "- Generate exactly **10 different products** in one JSON list.\n",
    "- 1) AtlasFlow � AI-driven automation platform for workflow orchestration and RPA\n",
    "2) PulseBI � enterprise business intelligence and analytics workspace\n",
    "3) NexusPredict � predictive analytics for demand, maintenance, and risk\n",
    "4) SentinelMLOps � model lifecycle management and governance\n",
    "5) DataForge � data orchestration and integration fabric\n",
    "6) KernelEdge � edge AI for manufacturing and field devices\n",
    "7) InsightForge � analytics storytelling and reporting layer\n",
    "8) StreamlineRPA � robotic process automation tooling\n",
    "9) CogniaDS � data science services and collaborative notebooks\n",
    "10) AuroraGuard � AI governance, security, and compliance\n",
    "- Maintain **Markdown format** inside each product’s `description` field.  \n",
    "- **JUST RETURN THE JSON WITHOUT ANY COMMENTS.**\n",
    "\"\"\"\n"
   ]
  },
  {
   "cell_type": "code",
   "execution_count": 44,
   "id": "64bd2a00",
   "metadata": {},
   "outputs": [],
   "source": [
    "# create the response for the products\n",
    "response_products = openai.responses.create(\n",
    "    model= MODEL,\n",
    "    input= [{'role': 'system', 'content': system_prompt_products},\n",
    "                    {'role': 'system', 'content': 'help me with 10 different products for my AI company'}],\n",
    "    stream= False\n",
    ")"
   ]
  },
  {
   "cell_type": "code",
   "execution_count": 45,
   "id": "ef5b716f",
   "metadata": {},
   "outputs": [
    {
     "data": {
      "text/plain": [
       "{'name': 'AtlasFlow',\n",
       " 'category': 'Automation',\n",
       " 'description': '# Product Record\\n\\n# AtlasFlow\\n\\n## Overview\\nAtlasFlow is an AI-driven automation platform for workflow orchestration and robotic process automation (RPA). It enables enterprises to design, deploy, and monitor automated processes across cloud, on-prem, and hybrid environments. It targets IT operations, business process owners, and developers who want reliable, auditable automation at scale.\\n\\n## Core Features\\n- AI-powered orchestration engine with deterministic scheduling and human-in-the-loop capabilities\\n- RPA bot lifecycle management with versioning, fault tolerance, and centralized governance\\n- AI-assisted action inference using OpenAI API and LangChain for natural-language automation and intent recognition\\n- Cloud-native deployment with Kubernetes, Git-based pipelines, and native connectors to Salesforce, SAP, and Power BI integration\\n- Policy-based governance, RBAC, auditing, and compliance reporting\\n\\n## Use Cases\\n- Finance and accounting: AP/AR automation, invoice processing, and reconciliation\\n- IT operations: incident response automation and patch management\\n- Manufacturing: shop-floor data collection and device orchestration across MES and ERP systems\\n\\n## Development Timeline\\n- v1.0 (Q3 2024): core workflow designer, RPA runtime, and connectors\\n- v1.5 (Q2 2025): AI-assisted action planning, governance module, and expanded connectors\\n- v2.0 (Q4 2026): full observability suite, policy automation, and cross-cloud orchestration\\n\\n## Performance or Success Metrics\\n- Reduced task completion time by 40–60% across automated processes\\n- Increased automation coverage by 50–70% within the first year\\n- Decrease in manual errors for critical processes by up to 80%\\n\\n## Pricing and Availability\\n- Subscription-based with enterprise license; on-premise deployment available for regulated industries\\n\\n---\\n\\n**Comment:** AtlasFlow exemplifies our strategy of enabling scalable, AI-powered automation with strong governance to accelerate digital transformation across industries.'}"
      ]
     },
     "execution_count": 45,
     "metadata": {},
     "output_type": "execute_result"
    }
   ],
   "source": [
    "response_str_products = response_products.output_text\n",
    "\n",
    "response_json_products = json.loads(response_str_products)\n",
    "response_json_products[0]"
   ]
  },
  {
   "cell_type": "code",
   "execution_count": 46,
   "id": "f2ceda69",
   "metadata": {},
   "outputs": [],
   "source": [
    "for product in response_json_products:\n",
    "    with open(fr\"products\\{product['name']}.md\", 'w+', encoding= 'utf-8') as f:\n",
    "        f.write(product['description'])"
   ]
  },
  {
   "cell_type": "markdown",
   "id": "d8ed5599",
   "metadata": {},
   "source": [
    "### Now a brief overview of the company"
   ]
  },
  {
   "cell_type": "code",
   "execution_count": 34,
   "id": "60f610f1",
   "metadata": {},
   "outputs": [],
   "source": [
    "# set the system prompt for the company overview\n",
    "# set the system prompt for the company document\n",
    "system_prompt_company = \"\"\"\n",
    "You are an agent whose main function is to create a Markdown document that simulates the profile of a real AI company called **ColumbusAI Solutions**.\n",
    "\n",
    "ColumbusAI Solutions is a global technology firm focused on artificial intelligence, automation, and data-driven consulting.  \n",
    "You must generate a **complete company profile** in Markdown format, rich in detail and realism.\n",
    "\n",
    "### Output Format\n",
    "Return a single JSON with this structure:\n",
    "{['name': 'ColumbusAI Solutions',\n",
    " 'description': MARKDOWN FORMAT]}\n",
    "\n",
    "### The Markdown description must include the following sections:\n",
    "\n",
    "# Company Record\n",
    "\n",
    "# ColumbusAI Solutions\n",
    "\n",
    "## Overview\n",
    "Describe the company’s mission, vision, and core focus.  \n",
    "Mention that it develops and deploys AI-based products for automation, business intelligence, and enterprise digital transformation.\n",
    "\n",
    "## History and Foundation\n",
    "Explain when and how the company was founded, by whom (invent a credible founder), and its initial purpose.  \n",
    "Include a realistic growth trajectory — for example, expansion from a local AI startup into an international consulting and product company.\n",
    "\n",
    "## Core Business Areas\n",
    "List the main business lines such as:\n",
    "- AI-driven automation\n",
    "- Software and data deployment\n",
    "- Predictive analytics and business intelligence\n",
    "- AI consulting and strategy\n",
    "- Custom model development\n",
    "\n",
    "## Product Ecosystem\n",
    "Describe how the company integrates its product portfolio (the 10 products you may have generated elsewhere) into client solutions.  \n",
    "Mention internal technologies or frameworks like model orchestration systems, data pipelines, and low-code tools.\n",
    "\n",
    "## Global Presence\n",
    "Invent realistic locations or regional offices (e.g., headquarters, regional hubs, R&D centers).  \n",
    "Indicate the company’s reach — clients in North America, Europe, and Latin America, for instance.\n",
    "\n",
    "## Key Achievements\n",
    "List 3–5 major milestones or awards:\n",
    "- Partnership announcements\n",
    "- Certifications\n",
    "- Successful client projects\n",
    "- Recognitions in AI innovation or ethical AI practices\n",
    "\n",
    "## Company Culture and Values\n",
    "Write about ColumbusAI Solutions’ values — innovation, transparency, inclusion, and sustainability — and describe how these are reflected in employee programs or initiatives.\n",
    "\n",
    "## Financial or Growth Highlights\n",
    "Include metrics like:\n",
    "- Revenue growth percentages\n",
    "- Number of enterprise clients served\n",
    "- Year-over-year expansion data\n",
    "(These can be invented but should sound credible.)\n",
    "\n",
    "## Future Vision\n",
    "Summarize the company’s direction for the next 3–5 years, including plans for generative AI, automation at scale, and global expansion.\n",
    "\n",
    "---\n",
    "\n",
    "**Comment:** End with a short paragraph emphasizing how ColumbusAI Solutions is shaping the future of intelligent automation and enterprise AI transformation.\n",
    "\n",
    "### Important:\n",
    "- Return only **one JSON object** with the fields `name` and `description`.\n",
    "- The `description` must be entirely in **Markdown format**.\n",
    "- All content should sound professional, credible, and detailed.\n",
    "- **JUST RETURN THE JSON WITHOUT ANY COMMENTS.**\n",
    "\"\"\"\n"
   ]
  },
  {
   "cell_type": "code",
   "execution_count": 35,
   "id": "b15cf90f",
   "metadata": {},
   "outputs": [],
   "source": [
    "# create the response for the company overview\n",
    "response_company = openai.responses.create(\n",
    "    model= MODEL,\n",
    "    input= [{'role': 'system', 'content': system_prompt_company},\n",
    "                    {'role': 'system', 'content': 'help me with the description of my company columbusAI solutions'}],\n",
    "    stream= False\n",
    ")"
   ]
  },
  {
   "cell_type": "code",
   "execution_count": 41,
   "id": "ddcafaff",
   "metadata": {},
   "outputs": [
    {
     "data": {
      "text/plain": [
       "{'name': 'ColumbusAI Solutions',\n",
       " 'description': '# Company Record\\n\\n# ColumbusAI Solutions\\n\\n## Overview\\nColumbusAI Solutions is a global technology firm focused on artificial intelligence, automation, and data-driven consulting. Our mission is to empower enterprises to achieve autonomous operations and data-driven decisions through trustworthy AI. Our vision is to become a leading partner for organizations pursuing scalable, ethical, and responsible AI at every layer of the enterprise. Core focus: AI-driven automation, software and data deployment, predictive analytics, AI consulting and strategy, and custom model development. We develop and deploy AI-based products for automation, business intelligence, and enterprise digital transformation.\\n\\n## History and Foundation\\nColumbusAI Solutions was founded in 2016 by Dr. Elena Koslov, a former AI scientist with deep experience in enterprise-scale data platforms. The founding team launched the company in Chicago with the aim of bridging advanced research and practical adoption for mid-market and Fortune 500 customers. Early engagements focused on automation pilots for manufacturing and logistics. By 2018 the company expanded to a blended services-and-products model, and by 2020 it secured seed funding to accelerate product development. In 2021 a New York City headquarters was established and a dedicated global delivery network was formed. From a local AI startup, ColumbusAI Solutions grew into an international consulting and product company with regional hubs and a nearshoring capability across the Americas.\\n\\n## Core Business Areas\\n- AI-driven automation\\n- Software and data deployment\\n- Predictive analytics and business intelligence\\n- AI consulting and strategy\\n- Custom model development\\n\\n## Product Ecosystem\\nColumbusAI Solutions operates a cohesive product portfolio designed to be deployed in stages across client environments. The suite includes 10 products that integrate via a common orchestration layer and data fabric:\\n\\n1) AtlasFlow — AI-driven automation platform for workflow orchestration and RPA\\n2) PulseBI — enterprise business intelligence and analytics workspace\\n3) NexusPredict — predictive analytics for demand, maintenance, and risk\\n4) SentinelMLOps — model lifecycle management and governance\\n5) DataForge — data orchestration and integration fabric\\n6) KernelEdge — edge AI for manufacturing and field devices\\n7) InsightForge — analytics storytelling and reporting layer\\n8) StreamlineRPA — robotic process automation tooling\\n9) CogniaDS — data science services and collaborative notebooks\\n10) AuroraGuard — AI governance, security, and compliance\\n\\nOur internal technologies include the Columbus Orchestrator (model orchestration system), AstraPipe (end-to-end data pipelines), and Nova Studio (low-code tooling) to assemble solutions rapidly. We design solutions that span data ingestion, model deployment, monitoring, and business logic integration.\\n\\n## Global Presence\\nHeadquartered in New York City, with regional hubs in London and Singapore, and R&D and regional delivery centers in São Paulo and Mexico City. The company maintains client delivery capabilities across North America, Europe, and Latin America, with partnerships to support clients in additional markets.\\n\\n## Key Achievements\\n- Strategic partnerships with major cloud platforms and technology providers (Azure, AWS, Google Cloud) enabling hybrid deployments and accelerated time-to-value.\\n- Certifications including ISO 27001 and SOC 2 Type II, plus AI ethics and governance recognitions.\\n- Delivered enterprise-grade digital transformation projects for Fortune 500 clients, achieving multi-year ROI and significant operational efficiency gains.\\n- Recognitions for responsible AI practices and innovation in automation.\\n\\n## Company Culture and Values\\nColumbusAI Solutions champions innovation, transparency, inclusion, and sustainability. The company maintains an active ethics and governance board for AI projects, runs transparent career progression and mentoring programs, and supports sustainable operations across offices (green energy, carbon reporting, and local community initiatives).\\n\\n## Financial or Growth Highlights\\n- Revenue grew at an average of 26% CAGR over the last three fiscal years.\\n- Serves 120+ enterprise clients across industries including manufacturing, financial services, retail, and healthcare.\\n- Year-over-year expansion in service delivery capacity averaging 18–22% annually, with ongoing investments in product R&D and global delivery.\\n\\n## Future Vision\\nIn the next 3–5 years, ColumbusAI Solutions will scale generative AI and automation across the enterprise, building deeper governance and security controls, expanding to additional regions (Africa, Middle East), and growing our cloud-agnostic product stack. We will advance platform-level capabilities for AI-assisted decision making, scalable automation at the edge and in the cloud, and a broader partner ecosystem to accelerate digital transformation across industries.\\n\\nColumbusAI Solutions is shaping the future of intelligent automation and enterprise AI transformation by turning advanced AI research into practical, responsible, and scalable solutions that empower organizations to operate more intelligently and efficiently.\\n'}"
      ]
     },
     "execution_count": 41,
     "metadata": {},
     "output_type": "execute_result"
    }
   ],
   "source": [
    "response_str_company = response_company.output_text\n",
    "\n",
    "response_json_company = json.loads(response_str_company)\n",
    "response_json_company"
   ]
  },
  {
   "cell_type": "code",
   "execution_count": null,
   "id": "9c9ef603",
   "metadata": {},
   "outputs": [],
   "source": [
    "with open(rf'company\\{response_json_company[\"name\"]}.md', 'w', encoding= 'utf-8') as f:\n",
    "    f.write(response_json_company['description'])\n"
   ]
  }
 ],
 "metadata": {
  "kernelspec": {
   "display_name": "venv",
   "language": "python",
   "name": "python3"
  },
  "language_info": {
   "codemirror_mode": {
    "name": "ipython",
    "version": 3
   },
   "file_extension": ".py",
   "mimetype": "text/x-python",
   "name": "python",
   "nbconvert_exporter": "python",
   "pygments_lexer": "ipython3",
   "version": "3.11.7"
  }
 },
 "nbformat": 4,
 "nbformat_minor": 5
}
